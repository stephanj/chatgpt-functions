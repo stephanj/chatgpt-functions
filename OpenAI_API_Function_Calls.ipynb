{
  "nbformat": 4,
  "nbformat_minor": 0,
  "metadata": {
    "colab": {
      "provenance": []
    },
    "kernelspec": {
      "name": "python3",
      "display_name": "Python 3"
    },
    "language_info": {
      "name": "python"
    }
  },
  "cells": [
    {
      "cell_type": "markdown",
      "source": [
        "ChatGPT Functions\n",
        "\n",
        "More info in related LinkedIn article @"
      ],
      "metadata": {
        "id": "HNXP8HXHdE5d"
      }
    },
    {
      "cell_type": "code",
      "source": [
        "!pip install openai -q"
      ],
      "metadata": {
        "id": "EF7BsGNkerq2"
      },
      "execution_count": null,
      "outputs": []
    },
    {
      "cell_type": "code",
      "source": [
        "import openai\n",
        "from tenacity import retry, wait_random_exponential, stop_after_attempt\n",
        "from termcolor import colored\n",
        "import requests"
      ],
      "metadata": {
        "id": "VbJhAqkTe5x8"
      },
      "execution_count": null,
      "outputs": []
    },
    {
      "cell_type": "code",
      "source": [
        "# GPT_MODEL = \"gpt-3.5-turbo-0613\"\n",
        "GPT_MODEL = \"gpt-4-0613\""
      ],
      "metadata": {
        "id": "1qn9VSBMexul"
      },
      "execution_count": null,
      "outputs": []
    },
    {
      "cell_type": "code",
      "source": [
        "openai.api_key = 'sk-...'"
      ],
      "metadata": {
        "id": "3oWGyH3xe9ic"
      },
      "execution_count": null,
      "outputs": []
    },
    {
      "cell_type": "code",
      "source": [
        "@retry(wait=wait_random_exponential(min=1, max=40), stop=stop_after_attempt(3))\n",
        "def chat_completion_request(messages, functions=None, model=GPT_MODEL):\n",
        "    headers = {\n",
        "        \"Content-Type\": \"application/json\",\n",
        "        \"Authorization\": \"Bearer \" + openai.api_key,\n",
        "    }\n",
        "    json_data = {\"model\": model, \"messages\": messages}\n",
        "    if functions is not None:\n",
        "        json_data.update({\"functions\": functions})\n",
        "    try:\n",
        "        response = requests.post(\n",
        "            \"https://api.openai.com/v1/chat/completions\",\n",
        "            headers=headers,\n",
        "            json=json_data,\n",
        "        )\n",
        "        return response\n",
        "    except Exception as e:\n",
        "        print(\"Unable to generate ChatCompletion response\")\n",
        "        print(f\"Exception: {e}\")\n",
        "        return e"
      ],
      "metadata": {
        "id": "kE4D8RDUmbmX"
      },
      "execution_count": null,
      "outputs": []
    },
    {
      "cell_type": "code",
      "source": [
        "class Conversation:\n",
        "    def __init__(self):\n",
        "        self.conversation_history = []\n",
        "\n",
        "    def add_message(self, role, content):\n",
        "        message = {\"role\": role, \"content\": content}\n",
        "        self.conversation_history.append(message)\n",
        "\n",
        "    def display_conversation(self, detailed=False):\n",
        "        role_to_color = {\n",
        "            \"system\": \"red\",\n",
        "            \"user\": \"green\",\n",
        "            \"assistant\": \"blue\",\n",
        "            \"function\": \"magenta\",\n",
        "        }\n",
        "        for message in self.conversation_history:\n",
        "            print(\n",
        "                colored(\n",
        "                    f\"{message['role']}: {message['content']}\\n\\n\",\n",
        "                    role_to_color[message[\"role\"]],\n",
        "                )\n",
        "            )"
      ],
      "metadata": {
        "id": "jL_Np5RhfSEU"
      },
      "execution_count": null,
      "outputs": []
    },
    {
      "cell_type": "markdown",
      "source": [
        "Function Specification"
      ],
      "metadata": {
        "id": "u5x0Oo2xfn66"
      }
    },
    {
      "cell_type": "code",
      "source": [
        "functions = [\n",
        "{\n",
        "\t\t\"name\": \"extract_speaker_name\",\n",
        "\t\t\"description\": \"Extract speaker first and last name from a given text\",\n",
        "\t\t\"parameters\": {\n",
        "\t\t\t\"type\": \"object\",\n",
        "\t\t\t\"properties\": {\n",
        "\t\t\t\t\"firstName\": {\n",
        "\t\t\t\t\t\"type\": \"string\",\n",
        "\t\t\t\t\t\"description\": \"The first name of the speaker\"\n",
        "\t\t\t\t},\n",
        "\t\t\t\t\"lastName\": {\n",
        "\t\t\t\t\t\"type\": \"string\",\n",
        "\t\t\t\t\t\"description\": \"The last name of the speaker\"\n",
        "\t\t\t\t}\n",
        "\t\t\t},\n",
        "\t\t\t\"required\": [\"firstName\", \"lastName\"]\n",
        "\t\t}\n",
        "\t},\n",
        "\t{\n",
        "\t\t\"name\": \"extract_company_name\",\n",
        "\t\t\"description\": \"Extract company name from a speaker bio\",\n",
        "\t\t\"parameters\": {\n",
        "\t\t\t\"type\": \"object\",\n",
        "\t\t\t\"properties\": {\n",
        "\t\t\t\t\"companyName\": {\n",
        "\t\t\t\t\t\"type\": \"string\",\n",
        "\t\t\t\t\t\"description\": \"The company name\"\n",
        "\t\t\t\t}\n",
        "\t\t\t},\n",
        "\t\t\t\"required\": [\"comnpanyName\"]\n",
        "\t\t}\n",
        "\t}\n",
        "]"
      ],
      "metadata": {
        "id": "6FeYE01MflrY"
      },
      "execution_count": null,
      "outputs": []
    },
    {
      "cell_type": "code",
      "source": [
        "bio = \"\"\"\n",
        "Stephan Janssen, the orchestrator of Devoxx Belgium, is fervently\n",
        "invested in conducting research and development (R&D) initiatives.\n",
        "These efforts have led to innovative features in Devoxx-related\n",
        "applications, including the CFP web app. In recent years, Stephan\n",
        "has been delving into state-of-the-art technologies such as large\n",
        "language models (LLMs), convolutional neural networks (CNNs), and\n",
        "other artificial intelligence (AI) tools. In his upcoming talk,\n",
        "he plans to share his practical knowledge and experiences with\n",
        "the developer community, complete with hands-on demonstrations\n",
        "and code examples. You can follow him on Twitter: @stephan007.\n",
        "\"\"\""
      ],
      "metadata": {
        "id": "ghU29v02HDom"
      },
      "execution_count": 64,
      "outputs": []
    },
    {
      "cell_type": "code",
      "source": [
        "conversation = Conversation()\n",
        "conversation.add_message(\"user\", \"Extract company name from bio: \" + bio)\n"
      ],
      "metadata": {
        "id": "uPPtZqA2funf"
      },
      "execution_count": 65,
      "outputs": []
    },
    {
      "cell_type": "code",
      "source": [
        "#with function call\n",
        "chat_response = chat_completion_request(\n",
        "    conversation.conversation_history,\n",
        "    functions = functions\n",
        ")\n",
        "\n",
        "chat_response.json()"
      ],
      "metadata": {
        "colab": {
          "base_uri": "https://localhost:8080/"
        },
        "id": "q5SWRnsTg1GN",
        "outputId": "a2fed8de-fb43-4ae7-f6de-64bc4a6628c7"
      },
      "execution_count": 66,
      "outputs": [
        {
          "output_type": "execute_result",
          "data": {
            "text/plain": [
              "{'id': 'chatcmpl-7SLeK4UXKhjMbMzXT7XdQQnOBi5tA',\n",
              " 'object': 'chat.completion',\n",
              " 'created': 1686990760,\n",
              " 'model': 'gpt-4-0613',\n",
              " 'choices': [{'index': 0,\n",
              "   'message': {'role': 'assistant',\n",
              "    'content': None,\n",
              "    'function_call': {'name': 'extract_company_name',\n",
              "     'arguments': '{\\n  \"companyName\": \"Devoxx Belgium\"\\n}'}},\n",
              "   'finish_reason': 'function_call'}],\n",
              " 'usage': {'prompt_tokens': 252, 'completion_tokens': 20, 'total_tokens': 272}}"
            ]
          },
          "metadata": {},
          "execution_count": 66
        }
      ]
    },
    {
      "cell_type": "code",
      "source": [
        "import json\n",
        "json.loads(chat_response.json()['choices'][0]['message']['function_call']['arguments'])"
      ],
      "metadata": {
        "colab": {
          "base_uri": "https://localhost:8080/"
        },
        "id": "c-fRFisshrdh",
        "outputId": "d68b6abe-6247-49ab-b6d3-fa0e44bd2843"
      },
      "execution_count": 67,
      "outputs": [
        {
          "output_type": "execute_result",
          "data": {
            "text/plain": [
              "{'companyName': 'Devoxx Belgium'}"
            ]
          },
          "metadata": {},
          "execution_count": 67
        }
      ]
    },
    {
      "cell_type": "code",
      "source": [
        "conversation = Conversation()\n",
        "conversation.add_message(\"user\", \"Extract company name from bio: \" + bio)"
      ],
      "metadata": {
        "id": "KyAwUPRgHclI"
      },
      "execution_count": 68,
      "outputs": []
    },
    {
      "cell_type": "code",
      "source": [
        "#with function call\n",
        "chat_response = chat_completion_request(\n",
        "    conversation.conversation_history,\n",
        "    functions = functions\n",
        ")\n",
        "chat_response.json()"
      ],
      "metadata": {
        "colab": {
          "base_uri": "https://localhost:8080/"
        },
        "id": "zJFGjtR-Hlg6",
        "outputId": "0af313eb-15f0-4339-c2d4-845845202e17"
      },
      "execution_count": 69,
      "outputs": [
        {
          "output_type": "execute_result",
          "data": {
            "text/plain": [
              "{'id': 'chatcmpl-7SLeSBscEXi8O4x8N0fE9giJitvmp',\n",
              " 'object': 'chat.completion',\n",
              " 'created': 1686990768,\n",
              " 'model': 'gpt-4-0613',\n",
              " 'choices': [{'index': 0,\n",
              "   'message': {'role': 'assistant',\n",
              "    'content': None,\n",
              "    'function_call': {'name': 'extract_company_name',\n",
              "     'arguments': '{\\n  \"companyName\": \"Devoxx Belgium\"\\n}'}},\n",
              "   'finish_reason': 'function_call'}],\n",
              " 'usage': {'prompt_tokens': 252, 'completion_tokens': 20, 'total_tokens': 272}}"
            ]
          },
          "metadata": {},
          "execution_count": 69
        }
      ]
    }
  ]
}